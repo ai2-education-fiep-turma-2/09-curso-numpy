{
 "cells": [
  {
   "cell_type": "markdown",
   "metadata": {},
   "source": [
    "### Exercícios Numpy"
   ]
  },
  {
   "cell_type": "markdown",
   "metadata": {},
   "source": [
    "Crie um array com 10 elementos usando a função arange"
   ]
  },
  {
   "cell_type": "code",
   "execution_count": 2,
   "metadata": {},
   "outputs": [],
   "source": [
    "import numpy as np"
   ]
  },
  {
   "cell_type": "code",
   "execution_count": 28,
   "metadata": {},
   "outputs": [
    {
     "data": {
      "text/plain": [
       "array([0, 1, 2, 3, 4, 5, 6, 7, 8, 9])"
      ]
     },
     "execution_count": 28,
     "metadata": {},
     "output_type": "execute_result"
    }
   ],
   "source": [
    "array = np.arange(10)\n",
    "array"
   ]
  },
  {
   "cell_type": "markdown",
   "metadata": {},
   "source": [
    "Transforme esse array de 1D (1x10) para 2D (2x5) usando a função reshape"
   ]
  },
  {
   "cell_type": "code",
   "execution_count": 43,
   "metadata": {},
   "outputs": [
    {
     "data": {
      "text/plain": [
       "array([[0, 1, 2, 3, 4],\n",
       "       [5, 6, 7, 8, 9]])"
      ]
     },
     "execution_count": 43,
     "metadata": {},
     "output_type": "execute_result"
    }
   ],
   "source": [
    "novo_array = np.reshape(array,(2,5))\n",
    "novo_array"
   ]
  },
  {
   "cell_type": "markdown",
   "metadata": {},
   "source": [
    "Crie duas matrizes bidimensionais com valores aleatórios"
   ]
  },
  {
   "cell_type": "code",
   "execution_count": 53,
   "metadata": {},
   "outputs": [
    {
     "name": "stdout",
     "output_type": "stream",
     "text": [
      "Matriz 1: \n",
      " [[0.93441964 0.46528858 0.87783579 0.66952287 0.41907906]\n",
      " [0.34657064 0.71755495 0.50084924 0.79281005 0.10396641]] \n",
      "\n",
      "Matriz 2: \n",
      " [[0.26766107 0.63001885 0.16142108 0.32036568 0.08408754]\n",
      " [0.39286161 0.11323316 0.26170863 0.95928708 0.12312165]] \n",
      "\n"
     ]
    }
   ],
   "source": [
    "matriz_1 = np.random.rand(2,5)\n",
    "matriz_2 = np.random.rand(2,5)\n",
    "print (\"Matriz 1: \\n\", matriz_1, \"\\n\")\n",
    "print (\"Matriz 2: \\n\", matriz_2, \"\\n\")"
   ]
  },
  {
   "cell_type": "markdown",
   "metadata": {},
   "source": [
    "calcule a transposta de cada matriz"
   ]
  },
  {
   "cell_type": "code",
   "execution_count": 54,
   "metadata": {},
   "outputs": [
    {
     "name": "stdout",
     "output_type": "stream",
     "text": [
      "Matriz 1 transposta: \n",
      " [[0.93441964 0.34657064]\n",
      " [0.46528858 0.71755495]\n",
      " [0.87783579 0.50084924]\n",
      " [0.66952287 0.79281005]\n",
      " [0.41907906 0.10396641]] \n",
      "\n",
      "Matriz 2 transposta: \n",
      " [[0.26766107 0.39286161]\n",
      " [0.63001885 0.11323316]\n",
      " [0.16142108 0.26170863]\n",
      " [0.32036568 0.95928708]\n",
      " [0.08408754 0.12312165]] \n",
      "\n"
     ]
    }
   ],
   "source": [
    "matriz_1_transposta = matriz_1.transpose()\n",
    "matriz_2_transposta = matriz_2.transpose()\n",
    "print (\"Matriz 1 transposta: \\n\", matriz_1_transposta, \"\\n\")\n",
    "print (\"Matriz 2 transposta: \\n\", matriz_2_transposta, \"\\n\")"
   ]
  },
  {
   "cell_type": "markdown",
   "metadata": {},
   "source": [
    "multiplique as duas matrizes"
   ]
  },
  {
   "cell_type": "code",
   "execution_count": 61,
   "metadata": {},
   "outputs": [
    {
     "name": "stdout",
     "output_type": "stream",
     "text": [
      "Produto: \n",
      " [[0.38626206 0.62794528 0.24153555 0.63181672 0.1212434 ]\n",
      " [0.40643944 0.37439159 0.26289771 0.83740368 0.12747152]\n",
      " [0.43172691 0.60976584 0.27277777 0.76168666 0.13548043]\n",
      " [0.49066984 0.51158442 0.31556033 0.97502458 0.15391061]\n",
      " [0.15301556 0.27580015 0.0948571  0.23399218 0.04803984]]\n"
     ]
    }
   ],
   "source": [
    "matriz_2_transposta = matriz_2_transposta.transpose()\n",
    "produto = np.dot(matriz_1_transposta,matriz_2_transposta)\n",
    "print (\"Produto: \\n\", produto)"
   ]
  },
  {
   "cell_type": "markdown",
   "metadata": {},
   "source": [
    "Salve as matrizes de entrada e a de saída em arquivos. Qual o tamanho dos arquivos gerados?"
   ]
  },
  {
   "cell_type": "code",
   "execution_count": null,
   "metadata": {},
   "outputs": [],
   "source": [
    "'''\n",
    "Outra forma\n",
    "\n",
    "num_l = int(input(\"Digite a quantidade de linhas da matriz aleatória: \"))\n",
    "num_c = int(input(\"Digite a quantidade de colunas da matriz aleatória: \"))\n",
    "matriz_aleatoria = np.random.rand(num_l,num_c)\n",
    "print (\"\\n\", matriz_aleatoria)\n",
    "#!touch arquivo.txt\n",
    "writeFile = open (\"arquivo.txt\", \"a\")\n",
    "writeFile.write(str(matriz_aleatoria) + '\\n\\n' )\n",
    "writeFile.close()\n",
    "matriz_1_transposta = matriz_aleatoria.transpose()\n",
    "produto = np.dot(matriz_aleatoria,matriz_1_transposta)\n",
    "writeFile = open (\"arquivo.txt\", \"a\")\n",
    "writeFile.write(str(produto) + '\\n' )\n",
    "writeFile.close()\n",
    "'''"
   ]
  },
  {
   "cell_type": "code",
   "execution_count": 109,
   "metadata": {},
   "outputs": [
    {
     "name": "stdout",
     "output_type": "stream",
     "text": [
      "Digite a quantidade de linhas da matriz aleatória: 2\n",
      "Digite a quantidade de colunas da matriz aleatória: 25\n",
      "\n",
      " [[5.33498712e-01 4.17426208e-01 8.70065643e-01 3.45729444e-02\n",
      "  6.68793800e-01 4.85035427e-01 1.78041151e-01 7.92355856e-01\n",
      "  1.39206950e-01 8.55707707e-01 8.31030182e-01 3.96956676e-01\n",
      "  7.72245044e-01 1.74341626e-02 9.79072430e-01 4.10207588e-01\n",
      "  7.44083258e-01 3.34500961e-01 6.37653102e-02 1.83546765e-01\n",
      "  4.43844729e-01 8.41570340e-01 5.51053953e-01 9.50632040e-01\n",
      "  9.20688787e-01]\n",
      " [6.77908524e-01 6.91984145e-01 2.10495775e-01 1.75044210e-01\n",
      "  5.75579953e-01 6.95940280e-01 6.03488733e-01 3.60276619e-02\n",
      "  6.85183542e-01 7.80758160e-01 9.51462029e-01 1.66876057e-01\n",
      "  5.12700454e-01 3.37089716e-04 3.98512364e-01 7.90000198e-01\n",
      "  3.52837657e-02 5.43355701e-01 4.23352790e-01 8.17291394e-02\n",
      "  2.19229912e-01 2.52156504e-01 3.96984421e-01 7.22820397e-02\n",
      "  1.77164443e-01]]\n"
     ]
    }
   ],
   "source": [
    "num_l = int(input(\"Digite a quantidade de linhas da matriz aleatória: \"))\n",
    "num_c = int(input(\"Digite a quantidade de colunas da matriz aleatória: \"))\n",
    "matriz_aleatoria = np.random.rand(num_l,num_c)\n",
    "print (\"\\n\", matriz_aleatoria)\n",
    "#!touch arquivo.txt\n",
    "\n",
    "np.savetxt('arquivo.txt',matriz_aleatoria) \n",
    "\n",
    "matriz_1_transposta = matriz_aleatoria.transpose()\n",
    "produto = np.dot(matriz_aleatoria,matriz_1_transposta)\n",
    "\n",
    "np.savetxt('arquivo.txt',matriz_aleatoria) "
   ]
  },
  {
   "cell_type": "code",
   "execution_count": 110,
   "metadata": {},
   "outputs": [
    {
     "name": "stdout",
     "output_type": "stream",
     "text": [
      "-rw-rw-r-- 1 karentaniguchi karentaniguchi 1,3K set 14 16:19 arquivo.txt\r\n"
     ]
    }
   ],
   "source": [
    "!ls -lh arquivo.txt"
   ]
  },
  {
   "cell_type": "code",
   "execution_count": 75,
   "metadata": {},
   "outputs": [
    {
     "name": "stdout",
     "output_type": "stream",
     "text": [
      "[[0.37756159 0.51522916 0.38451067]\r\n",
      " [0.38848804 0.48888876 0.94669152]\r\n",
      " [0.18278276 0.90085198 0.99947209]]\r\n",
      "\r\n",
      "[[0.5558623  0.7625809  0.91746465]\r\n",
      " [0.7625809  1.28616002 1.45761708]\r\n",
      " [0.91746465 1.45761708 1.84388829]]\r\n"
     ]
    }
   ],
   "source": [
    "!cat arquivo.txt"
   ]
  },
  {
   "cell_type": "markdown",
   "metadata": {},
   "source": [
    "Crie duas bidimensionais matrizes com valores aleatórios e gere uma única matriz combinando linha a linha"
   ]
  },
  {
   "cell_type": "code",
   "execution_count": 102,
   "metadata": {},
   "outputs": [
    {
     "name": "stdout",
     "output_type": "stream",
     "text": [
      "Matriz 1: \n",
      " [[0.37799749 0.30859988 0.9480525 ]\n",
      " [0.11933269 0.51462523 0.09303803]\n",
      " [0.48217473 0.46955023 0.62257113]] \n",
      "\n",
      "Matriz 2: \n",
      " [[0.70174984 0.48232867 0.89680262]\n",
      " [0.64302335 0.61029775 0.97817906]\n",
      " [0.47362519 0.46870051 0.55614345]] \n",
      "\n",
      "Matriz combinada: \n",
      " [[[0.37799749 0.30859988 0.9480525 ]]\n",
      "\n",
      " [[0.11933269 0.51462523 0.09303803]]\n",
      "\n",
      " [[0.48217473 0.46955023 0.62257113]]\n",
      "\n",
      " [[0.70174984 0.48232867 0.89680262]]\n",
      "\n",
      " [[0.64302335 0.61029775 0.97817906]]\n",
      "\n",
      " [[0.47362519 0.46870051 0.55614345]]] \n",
      "\n"
     ]
    }
   ],
   "source": [
    "m_1 = np.random.rand(3,3)\n",
    "m_2 = np.random.rand(3,3)\n",
    "print (\"Matriz 1: \\n\", m_1, \"\\n\")\n",
    "print (\"Matriz 2: \\n\", m_2, \"\\n\")\n",
    "m1 = np.split(m_1,3)\n",
    "m2 = np.split(m_2,3)\n",
    "m = np.concatenate((m1, m2))\n",
    "print (\"Matriz combinada: \\n\", m, \"\\n\")"
   ]
  },
  {
   "cell_type": "markdown",
   "metadata": {},
   "source": [
    "Crie um vetor nulo de tamanho 10"
   ]
  },
  {
   "cell_type": "code",
   "execution_count": 104,
   "metadata": {},
   "outputs": [
    {
     "data": {
      "text/plain": [
       "array([0., 0., 0., 0., 0., 0., 0., 0., 0., 0.])"
      ]
     },
     "execution_count": 104,
     "metadata": {},
     "output_type": "execute_result"
    }
   ],
   "source": [
    "nulos = np.zeros(10)\n",
    "nulos"
   ]
  },
  {
   "cell_type": "markdown",
   "metadata": {},
   "source": [
    "Como encontrar o tamanho da memória de qualquer matriz"
   ]
  },
  {
   "cell_type": "code",
   "execution_count": 111,
   "metadata": {},
   "outputs": [],
   "source": [
    "matriz = np.random.rand(3,3)"
   ]
  },
  {
   "cell_type": "code",
   "execution_count": 112,
   "metadata": {},
   "outputs": [
    {
     "name": "stdout",
     "output_type": "stream",
     "text": [
      "72\n"
     ]
    }
   ],
   "source": [
    "print(matriz.nbytes)"
   ]
  },
  {
   "cell_type": "markdown",
   "metadata": {},
   "source": [
    "Crie um vetor nulo de tamanho 10, mas o quinto valor, que é 1"
   ]
  },
  {
   "cell_type": "code",
   "execution_count": 117,
   "metadata": {},
   "outputs": [
    {
     "name": "stdout",
     "output_type": "stream",
     "text": [
      "[0. 0. 0. 0. 1. 0. 0. 0. 0.]\n"
     ]
    }
   ],
   "source": [
    "zeros = np.zeros(4)\n",
    "um = np.eye(1)\n",
    "zeros_um = np.append(zeros,um)\n",
    "zeros_um = np.append(zeros_um,zeros)\n",
    "print(zeros_um)"
   ]
  },
  {
   "cell_type": "markdown",
   "metadata": {},
   "source": [
    "Crie um vetor com valores que variam de 10 a 49"
   ]
  },
  {
   "cell_type": "code",
   "execution_count": 120,
   "metadata": {},
   "outputs": [
    {
     "data": {
      "text/plain": [
       "array([10.        , 10.79591837, 11.59183673, 12.3877551 , 13.18367347,\n",
       "       13.97959184, 14.7755102 , 15.57142857, 16.36734694, 17.16326531,\n",
       "       17.95918367, 18.75510204, 19.55102041, 20.34693878, 21.14285714,\n",
       "       21.93877551, 22.73469388, 23.53061224, 24.32653061, 25.12244898,\n",
       "       25.91836735, 26.71428571, 27.51020408, 28.30612245, 29.10204082,\n",
       "       29.89795918, 30.69387755, 31.48979592, 32.28571429, 33.08163265,\n",
       "       33.87755102, 34.67346939, 35.46938776, 36.26530612, 37.06122449,\n",
       "       37.85714286, 38.65306122, 39.44897959, 40.24489796, 41.04081633,\n",
       "       41.83673469, 42.63265306, 43.42857143, 44.2244898 , 45.02040816,\n",
       "       45.81632653, 46.6122449 , 47.40816327, 48.20408163, 49.        ])"
      ]
     },
     "execution_count": 120,
     "metadata": {},
     "output_type": "execute_result"
    }
   ],
   "source": [
    "vetor = np.linspace(10,49)\n",
    "vetor"
   ]
  },
  {
   "cell_type": "markdown",
   "metadata": {},
   "source": [
    "Inverter um vetor (o primeiro elemento se torna o último)"
   ]
  },
  {
   "cell_type": "code",
   "execution_count": 125,
   "metadata": {},
   "outputs": [
    {
     "data": {
      "text/plain": [
       "array([49.        , 48.20408163, 47.40816327, 46.6122449 , 45.81632653,\n",
       "       45.02040816, 44.2244898 , 43.42857143, 42.63265306, 41.83673469,\n",
       "       41.04081633, 40.24489796, 39.44897959, 38.65306122, 37.85714286,\n",
       "       37.06122449, 36.26530612, 35.46938776, 34.67346939, 33.87755102,\n",
       "       33.08163265, 32.28571429, 31.48979592, 30.69387755, 29.89795918,\n",
       "       29.10204082, 28.30612245, 27.51020408, 26.71428571, 25.91836735,\n",
       "       25.12244898, 24.32653061, 23.53061224, 22.73469388, 21.93877551,\n",
       "       21.14285714, 20.34693878, 19.55102041, 18.75510204, 17.95918367,\n",
       "       17.16326531, 16.36734694, 15.57142857, 14.7755102 , 13.97959184,\n",
       "       13.18367347, 12.3877551 , 11.59183673, 10.79591837, 10.        ])"
      ]
     },
     "execution_count": 125,
     "metadata": {},
     "output_type": "execute_result"
    }
   ],
   "source": [
    "vetor = np.linspace(10,49)\n",
    "inverso = np.flip(vetor)\n",
    "inverso"
   ]
  },
  {
   "cell_type": "markdown",
   "metadata": {},
   "source": [
    "Crie uma matriz 3x3 com valores que variam de 0 a 8"
   ]
  },
  {
   "cell_type": "code",
   "execution_count": 145,
   "metadata": {},
   "outputs": [
    {
     "data": {
      "text/plain": [
       "array([[5, 3, 2],\n",
       "       [2, 4, 5],\n",
       "       [1, 5, 3]])"
      ]
     },
     "execution_count": 145,
     "metadata": {},
     "output_type": "execute_result"
    }
   ],
   "source": [
    "matriz_3_3 = np.random.randint(8, size=(3, 3))\n",
    "matriz_3_3"
   ]
  },
  {
   "cell_type": "markdown",
   "metadata": {},
   "source": [
    "Crie uma matriz de identidade 3x3"
   ]
  },
  {
   "cell_type": "code",
   "execution_count": 147,
   "metadata": {},
   "outputs": [
    {
     "data": {
      "text/plain": [
       "array([[1., 0., 0.],\n",
       "       [0., 1., 0.],\n",
       "       [0., 0., 1.]])"
      ]
     },
     "execution_count": 147,
     "metadata": {},
     "output_type": "execute_result"
    }
   ],
   "source": [
    "identidade = np.eye(3,3)\n",
    "identidade"
   ]
  },
  {
   "cell_type": "markdown",
   "metadata": {},
   "source": [
    "Crie uma matriz 3x3x3 com valores aleatórios"
   ]
  },
  {
   "cell_type": "code",
   "execution_count": 6,
   "metadata": {},
   "outputs": [
    {
     "data": {
      "text/plain": [
       "array([[[28, 84, 52],\n",
       "        [38, 37, 27],\n",
       "        [17, 85, 82]],\n",
       "\n",
       "       [[25, 96, 49],\n",
       "        [64, 94, 52],\n",
       "        [96, 10, 36]],\n",
       "\n",
       "       [[35, 49, 45],\n",
       "        [53, 60, 28],\n",
       "        [24, 73, 75]]])"
      ]
     },
     "execution_count": 6,
     "metadata": {},
     "output_type": "execute_result"
    }
   ],
   "source": [
    "matriz_3_3_3 = np.random.randint(100, size=(3, 3, 3))\n",
    "matriz_3_3_3"
   ]
  },
  {
   "cell_type": "markdown",
   "metadata": {},
   "source": [
    "Crie uma matriz 10x10 com valores aleatórios e encontre os valores mínimo e máximo"
   ]
  },
  {
   "cell_type": "code",
   "execution_count": 4,
   "metadata": {},
   "outputs": [
    {
     "name": "stdout",
     "output_type": "stream",
     "text": [
      "[[18 34 44 71 30 12 97 91 66 70]\n",
      " [60 91 75 45 69 53 34 20 87 79]\n",
      " [44 82 30 12 50 79 12 54 84 39]\n",
      " [70 43 15 41 56 75 57 62 82 84]\n",
      " [73 66 45 96 26 18 87 50 16 26]\n",
      " [91 73 29 82 91 39 78 63 36 47]\n",
      " [95 86 45 63 19 51 92 87 41 57]\n",
      " [95 76 34 73 69 57 77 52 54 31]\n",
      " [17 90 61 98 89 61 56 64 78 70]\n",
      " [93 24 87 56 24 33 67 41 22 67]]\n",
      "\n",
      "Mínimo:  12\n",
      "Máximo:  98\n"
     ]
    }
   ],
   "source": [
    "matriz_10_10 = np.random.randint(low=12, high=100, size=(10, 10))\n",
    "minimo = np.min(matriz_10_10)\n",
    "maximo = np.max(matriz_10_10)\n",
    "print(matriz_10_10)\n",
    "print(\"\\nMínimo: \", minimo)\n",
    "print(\"Máximo: \", maximo)"
   ]
  },
  {
   "cell_type": "markdown",
   "metadata": {},
   "source": [
    "Crie um vetor aleatório de tamanho 30 e encontre o valor médio"
   ]
  },
  {
   "cell_type": "code",
   "execution_count": 28,
   "metadata": {},
   "outputs": [
    {
     "name": "stdout",
     "output_type": "stream",
     "text": [
      "[[15  5 57 76 80 35 66 30 39 96 25 53 50 65 73 62 43 55  8 20 19 52  5 67\n",
      "  22 15 21 23 15 55]]\n",
      "\n",
      "Média:  41.56666666666667\n"
     ]
    }
   ],
   "source": [
    "matriz_30 = np.random.randint(100,size=(1, 30))\n",
    "print(matriz_30)\n",
    "media = np.mean(matriz_30)\n",
    "print(\"\\nMédia: \", media)"
   ]
  },
  {
   "cell_type": "markdown",
   "metadata": {},
   "source": [
    "Crie uma matriz 2D com 1 na borda e 0 dentro"
   ]
  },
  {
   "cell_type": "code",
   "execution_count": 10,
   "metadata": {},
   "outputs": [
    {
     "data": {
      "text/plain": [
       "array([[1, 0, 1],\n",
       "       [1, 0, 1]])"
      ]
     },
     "execution_count": 10,
     "metadata": {},
     "output_type": "execute_result"
    }
   ],
   "source": [
    "array_2d = np.array([[1, 0, 1],[1, 0, 1]])\n",
    "array_2d"
   ]
  },
  {
   "cell_type": "markdown",
   "metadata": {},
   "source": [
    "Crie uma matriz 5x5 com valores 1,2,3,4 logo abaixo da diagonal"
   ]
  },
  {
   "cell_type": "code",
   "execution_count": 90,
   "metadata": {},
   "outputs": [
    {
     "name": "stdout",
     "output_type": "stream",
     "text": [
      "[[0. 0. 0. 0. 0.]\n",
      " [1. 0. 0. 0. 0.]\n",
      " [0. 2. 0. 0. 0.]\n",
      " [0. 0. 3. 0. 0.]\n",
      " [0. 0. 0. 4. 0.]]\n"
     ]
    }
   ],
   "source": [
    "matriz = (5,5)\n",
    "matriz_5_5 = np.zeros(matriz)\n",
    "\n",
    "for i in range(len(matriz_5_5)):\n",
    "    for j in range(len(matriz_5_5)):\n",
    "        if (i != 0) and ((i != j)) and (i == j+1) :\n",
    "            matriz_5_5[i,j] = i\n",
    "            \n",
    "print(matriz_5_5)"
   ]
  },
  {
   "cell_type": "markdown",
   "metadata": {},
   "source": [
    "Crie uma matriz estruturada representando uma posição (x, y) e uma cor (r, g, b)"
   ]
  },
  {
   "cell_type": "code",
   "execution_count": 30,
   "metadata": {},
   "outputs": [
    {
     "name": "stdout",
     "output_type": "stream",
     "text": [
      "   r g b\n",
      "x [0 0 0]\n",
      "y [0 1 0]\n"
     ]
    }
   ],
   "source": [
    "matriz_estruturada = np.array([[0, 0, 0],[0, 1, 0]])\n",
    "print('   r g b')\n",
    "print('x',matriz_estruturada[0])\n",
    "print('y',matriz_estruturada[1])"
   ]
  },
  {
   "cell_type": "markdown",
   "metadata": {},
   "source": [
    "Subtrair a média de cada linha de uma matriz"
   ]
  },
  {
   "cell_type": "code",
   "execution_count": 25,
   "metadata": {},
   "outputs": [
    {
     "name": "stdout",
     "output_type": "stream",
     "text": [
      "Matriz: \n",
      " [[0 6]\n",
      " [8 6]]\n",
      "\n",
      "Média:  5.0\n",
      "Média de cada linha de uma matriz: \n",
      " [[ 5 -1]\n",
      " [-3 -1]]\n"
     ]
    }
   ],
   "source": [
    "matriz_2_2 = np.random.randint(10, size=(2, 2))\n",
    "media = np.mean(matriz_2_2)\n",
    "print(\"Matriz: \\n\", matriz_2_2)\n",
    "print(\"\\nMédia: \", media)\n",
    "for i in range(len(matriz_2_2)):\n",
    "    for j in range(len(matriz_2_2)):\n",
    "            matriz_2_2[i,j] = media - matriz_2_2[i,j]\n",
    "print('Média de cada linha de uma matriz: \\n', matriz_2_2)            "
   ]
  },
  {
   "cell_type": "markdown",
   "metadata": {},
   "source": [
    "Como encontrar o valor mais frequente em uma matriz?\n"
   ]
  },
  {
   "cell_type": "code",
   "execution_count": 28,
   "metadata": {},
   "outputs": [
    {
     "name": "stdout",
     "output_type": "stream",
     "text": [
      "[12 12 12  5  6  7  7  5]\n",
      "\n",
      "Valor mais frequente:  12\n"
     ]
    }
   ],
   "source": [
    "vetor = np.array([12,12,12,5,6,7,7,5])\n",
    "print(vetor)\n",
    "conta = np.bincount(vetor)\n",
    "print ('\\nValor mais frequente: ', np.argmax(conta))"
   ]
  },
  {
   "cell_type": "markdown",
   "metadata": {},
   "source": [
    "Crie uma matriz a partir de um arquivo"
   ]
  },
  {
   "cell_type": "code",
   "execution_count": 29,
   "metadata": {},
   "outputs": [],
   "source": [
    "matriz_arquivo = np.eye(2)\n",
    "np.savetxt('arquivo.txt',matriz_arquivo) "
   ]
  },
  {
   "cell_type": "markdown",
   "metadata": {},
   "source": [
    "crie uma matriz com valores aleatórios e salve para um arquivo"
   ]
  },
  {
   "cell_type": "code",
   "execution_count": 115,
   "metadata": {},
   "outputs": [
    {
     "name": "stdout",
     "output_type": "stream",
     "text": [
      "Digite a quantidade de linhas da matriz aleatória: 3\n",
      "Digite a quantidade de colunas da matriz aleatória: 3\n"
     ]
    }
   ],
   "source": [
    "num_l = int(input(\"Digite a quantidade de linhas da matriz aleatória: \"))\n",
    "num_c = int(input(\"Digite a quantidade de colunas da matriz aleatória: \"))\n",
    "matriz_aleatoria = np.random.rand(num_l,num_c)\n",
    "print (\"\\n\", matriz_aleatoria)\n",
    "\n",
    "np.savetxt('arquivo.txt',matriz_aleatoria) "
   ]
  },
  {
   "cell_type": "code",
   "execution_count": null,
   "metadata": {},
   "outputs": [],
   "source": []
  }
 ],
 "metadata": {
  "kernelspec": {
   "display_name": "Python 3",
   "language": "python",
   "name": "python3"
  },
  "language_info": {
   "codemirror_mode": {
    "name": "ipython",
    "version": 3
   },
   "file_extension": ".py",
   "mimetype": "text/x-python",
   "name": "python",
   "nbconvert_exporter": "python",
   "pygments_lexer": "ipython3",
   "version": "3.8.3"
  }
 },
 "nbformat": 4,
 "nbformat_minor": 4
}
