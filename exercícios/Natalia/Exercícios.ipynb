{
 "cells": [
  {
   "cell_type": "code",
   "execution_count": 2,
   "metadata": {},
   "outputs": [],
   "source": [
    "import numpy as np\n",
    "import pandas as pd\n",
    "from collections import Counter"
   ]
  },
  {
   "cell_type": "code",
   "execution_count": 3,
   "metadata": {},
   "outputs": [
    {
     "data": {
      "text/plain": [
       "array([ 1,  3,  5,  7,  9, 11, 13, 15, 17, 19])"
      ]
     },
     "execution_count": 3,
     "metadata": {},
     "output_type": "execute_result"
    }
   ],
   "source": [
    "#matriz 1X10 com 10 valores com intervalo de 2\n",
    "np_arange = np.arange(1, 20, 2)\n",
    "np_arange"
   ]
  },
  {
   "cell_type": "code",
   "execution_count": 5,
   "metadata": {},
   "outputs": [
    {
     "data": {
      "text/plain": [
       "array([[ 1,  3,  5,  7,  9],\n",
       "       [11, 13, 15, 17, 19]])"
      ]
     },
     "execution_count": 5,
     "metadata": {},
     "output_type": "execute_result"
    }
   ],
   "source": [
    "#transformando pra uma matriz 2x5\n",
    "np_reshape = np_arange.reshape(2, 5)\n",
    "np_reshape"
   ]
  },
  {
   "cell_type": "code",
   "execution_count": 13,
   "metadata": {},
   "outputs": [
    {
     "name": "stdout",
     "output_type": "stream",
     "text": [
      "[[28 88 60 53]\n",
      " [93 47 27 41]\n",
      " [ 7 59 77  5]\n",
      " [71 68 27 36]] \n",
      "\n",
      "[[42 43 63 92]\n",
      " [23 62 54 69]\n",
      " [84  3 87 36]\n",
      " [29 75 55 44]]\n"
     ]
    }
   ],
   "source": [
    "#duas matrizes bidimensionais com valores aleatórios de 1 a 100\n",
    "np_random1 = np.random.randint(100, size=(4, 4))\n",
    "np_random2 = np.random.randint(100, size=(4, 4))\n",
    "print (np_random1, '\\n')\n",
    "print (np_random2)"
   ]
  },
  {
   "cell_type": "code",
   "execution_count": 16,
   "metadata": {},
   "outputs": [
    {
     "name": "stdout",
     "output_type": "stream",
     "text": [
      "[[28 93  7 71]\n",
      " [88 47 59 68]\n",
      " [60 27 77 27]\n",
      " [53 41  5 36]] \n",
      "\n",
      "[[42 23 84 29]\n",
      " [43 62  3 75]\n",
      " [63 54 87 55]\n",
      " [92 69 36 44]]\n"
     ]
    }
   ],
   "source": [
    "#transpostas\n",
    "np_transpose1 = np_random1.transpose()\n",
    "print(np_transpose1, '\\n')\n",
    "np_transpose2 = np_random2.transpose()\n",
    "print(np_transpose2)"
   ]
  },
  {
   "cell_type": "code",
   "execution_count": 24,
   "metadata": {},
   "outputs": [
    {
     "name": "stdout",
     "output_type": "stream",
     "text": [
      "[[1176 3784 3780 4876]\n",
      " [2139 2914 1458 2829]\n",
      " [ 588  177 6699  180]\n",
      " [2059 5100 1485 1584]]\n"
     ]
    }
   ],
   "source": [
    "#multiplicação de matrizes\n",
    "np_mult = (np_random1)*(np_random2)\n",
    "print (np_mult)"
   ]
  },
  {
   "cell_type": "code",
   "execution_count": 28,
   "metadata": {},
   "outputs": [],
   "source": [
    "#salvando as matrizes de entrada e saida em .npy e .npz\n",
    "nHIGH = np_random1\n",
    "np.save('/home/nataliasa/09-curso-numpy/exercícios/Natalia/random1',nHIGH) \n",
    "np.savez_compressed('/home/nataliasa/09-curso-numpy/exercícios/Natalia/random1_2',nHIGH=nHIGH)\n",
    "\n",
    "nHIGH = np_random2\n",
    "np.save('/home/nataliasa/09-curso-numpy/exercícios/Natalia/random2',nHIGH) \n",
    "np.savez_compressed('/home/nataliasa/09-curso-numpy/exercícios/Natalia/random2_2',nHIGH=nHIGH)\n",
    "\n",
    "nHIGH = np_transpose1\n",
    "np.save('/home/nataliasa/09-curso-numpy/exercícios/Natalia/transpose1',nHIGH) \n",
    "np.savez_compressed('/home/nataliasa/09-curso-numpy/exercícios/Natalia/transpose1_2',nHIGH=nHIGH)\n",
    "\n",
    "nHIGH = np_transpose2\n",
    "np.save('/home/nataliasa/09-curso-numpy/exercícios/Natalia/transpose2',nHIGH) \n",
    "np.savez_compressed('/home/nataliasa/09-curso-numpy/exercícios/Natalia/transpose2_2',nHIGH=nHIGH)\n",
    "\n",
    "nHIGH = np_mult\n",
    "np.save('/home/nataliasa/09-curso-numpy/exercícios/Natalia/mult',nHIGH) \n",
    "np.savez_compressed('/home/nataliasa/09-curso-numpy/exercícios/Natalia/mult_2',nHIGH=nHIGH)"
   ]
  },
  {
   "cell_type": "code",
   "execution_count": 31,
   "metadata": {},
   "outputs": [
    {
     "name": "stdout",
     "output_type": "stream",
     "text": [
      "-rw-rw-r-- 1 nataliasa nataliasa 256 set 14 11:54 /home/nataliasa/09-curso-numpy/exercícios/Natalia/random1.npy\n",
      "-rw-rw-r-- 1 nataliasa nataliasa 256 set 14 11:54 /home/nataliasa/09-curso-numpy/exercícios/Natalia/random2.npy\n",
      "-rw-rw-r-- 1 nataliasa nataliasa 256 set 14 11:54 /home/nataliasa/09-curso-numpy/exercícios/Natalia/transpose1.npy\n",
      "-rw-rw-r-- 1 nataliasa nataliasa 256 set 14 11:54 /home/nataliasa/09-curso-numpy/exercícios/Natalia/transpose2.npy\n",
      "-rw-rw-r-- 1 nataliasa nataliasa 256 set 14 11:54 /home/nataliasa/09-curso-numpy/exercícios/Natalia/mult.npy\n",
      "-rw-rw-r-- 1 nataliasa nataliasa 227 set 14 11:54 /home/nataliasa/09-curso-numpy/exercícios/Natalia/random1_2.npz\n"
     ]
    }
   ],
   "source": [
    "#tamanho dos arquivos gerados\n",
    "!ls -lh /home/nataliasa/09-curso-numpy/exercícios/Natalia/random1.npy\n",
    "!ls -lh /home/nataliasa/09-curso-numpy/exercícios/Natalia/random2.npy\n",
    "!ls -lh /home/nataliasa/09-curso-numpy/exercícios/Natalia/transpose1.npy\n",
    "!ls -lh /home/nataliasa/09-curso-numpy/exercícios/Natalia/transpose2.npy\n",
    "!ls -lh /home/nataliasa/09-curso-numpy/exercícios/Natalia/mult.npy\n",
    "!ls -lh /home/nataliasa/09-curso-numpy/exercícios/Natalia/random1_2.npz"
   ]
  },
  {
   "cell_type": "code",
   "execution_count": 44,
   "metadata": {},
   "outputs": [
    {
     "name": "stdout",
     "output_type": "stream",
     "text": [
      "[[41 36 23 52]\n",
      " [75  3 89 81]\n",
      " [98 19 87 66]\n",
      " [71 51 75 58]] \n",
      "\n",
      "[[10 26 32 52]\n",
      " [56 27  0 90]\n",
      " [52  4 68 26]\n",
      " [61 34 88 63]] \n",
      "\n",
      "Combinando linha a linha: \n",
      "\n",
      "[[41 36 23 52 10 26 32 52]\n",
      " [75  3 89 81 56 27  0 90]\n",
      " [98 19 87 66 52  4 68 26]\n",
      " [71 51 75 58 61 34 88 63]]\n"
     ]
    }
   ],
   "source": [
    "#duas matrizes bidimensionais com valores aleatórios de 1 a 100\n",
    "np_random3 = np.random.randint(100, size=(4, 4))\n",
    "np_random4 = np.random.randint(100, size=(4, 4))\n",
    "print (np_random3, '\\n')\n",
    "print (np_random4, '\\n')\n",
    "\n",
    "#Combinando as matrizes linha a linha\n",
    "print (\"Combinando linha a linha: \\n\")\n",
    "print (np.concatenate([np_random3, np_random4], axis=1))"
   ]
  },
  {
   "cell_type": "code",
   "execution_count": 64,
   "metadata": {},
   "outputs": [
    {
     "name": "stdout",
     "output_type": "stream",
     "text": [
      "[0 0 0 0 0 0 0 0 0 0]\n"
     ]
    }
   ],
   "source": [
    "#vetor nulo de tamanho 10\n",
    "np_null = np.zeros(10, dtype='int8')\n",
    "print (np_null)"
   ]
  },
  {
   "cell_type": "code",
   "execution_count": 59,
   "metadata": {},
   "outputs": [
    {
     "name": "stdout",
     "output_type": "stream",
     "text": [
      "10\n",
      "10\n"
     ]
    }
   ],
   "source": [
    "#Tamanho da memória e bytes\n",
    "print(np_null.size)\n",
    "print(np_null.nbytes) "
   ]
  },
  {
   "cell_type": "code",
   "execution_count": 66,
   "metadata": {},
   "outputs": [
    {
     "name": "stdout",
     "output_type": "stream",
     "text": [
      "[0 0 0 0 1 0 0 0 0 0]\n"
     ]
    }
   ],
   "source": [
    "#vetor nulo de tamanho 10, mas o quinto valor é 1\n",
    "np_null1 = np.zeros(10, dtype='int8')\n",
    "np_null1[4] =  1\n",
    "print (np_null1)"
   ]
  },
  {
   "cell_type": "code",
   "execution_count": 132,
   "metadata": {},
   "outputs": [
    {
     "name": "stdout",
     "output_type": "stream",
     "text": [
      "[10 14 18 23 27 31 36 40 44 49]\n"
     ]
    }
   ],
   "source": [
    "#vetor com 10 valores aleatórios entre 10 e 49\n",
    "#np_vector = np.arange(10, 50)\n",
    "np_vector=np.linspace(10,49,10, dtype = 'int') \n",
    "print (np_vector)"
   ]
  },
  {
   "cell_type": "code",
   "execution_count": 133,
   "metadata": {},
   "outputs": [
    {
     "name": "stdout",
     "output_type": "stream",
     "text": [
      "[49 44 40 36 31 27 23 18 14 10]\n"
     ]
    }
   ],
   "source": [
    "#inverter o primeiro elemento\n",
    "print(np_vector[::-1])"
   ]
  },
  {
   "cell_type": "code",
   "execution_count": 100,
   "metadata": {},
   "outputs": [
    {
     "name": "stdout",
     "output_type": "stream",
     "text": [
      "[[0 1 2]\n",
      " [3 4 5]\n",
      " [6 7 8]]\n"
     ]
    }
   ],
   "source": [
    "#matriz 3x3 com valores de 0 a 8\n",
    "matriz3x3 = np.arange(0, 9)\n",
    "matriz3x3 = matriz3x3.reshape(3, 3)\n",
    "print (matriz3x3)"
   ]
  },
  {
   "cell_type": "code",
   "execution_count": 124,
   "metadata": {},
   "outputs": [
    {
     "name": "stdout",
     "output_type": "stream",
     "text": [
      "[[1. 0. 0.]\n",
      " [0. 1. 0.]\n",
      " [0. 0. 1.]]\n"
     ]
    }
   ],
   "source": [
    "#matriz identidade 3x3\n",
    "np_identidade = np.eye(3)\n",
    "print (np_identidade)"
   ]
  },
  {
   "cell_type": "code",
   "execution_count": 123,
   "metadata": {},
   "outputs": [
    {
     "name": "stdout",
     "output_type": "stream",
     "text": [
      "[[[98 67 77]\n",
      "  [86  5 75]\n",
      "  [12 64 69]]\n",
      "\n",
      " [[99 87 11]\n",
      "  [47 51 30]\n",
      "  [60 43  5]]\n",
      "\n",
      " [[56  0 61]\n",
      "  [ 2 58 68]\n",
      "  [ 1 44 63]]]\n"
     ]
    }
   ],
   "source": [
    "#matriz aleatória 3x3x3\n",
    "np_random = np.random.randint(100, size=(3, 3, 3))\n",
    "print (np_random)"
   ]
  },
  {
   "cell_type": "code",
   "execution_count": 117,
   "metadata": {},
   "outputs": [
    {
     "name": "stdout",
     "output_type": "stream",
     "text": [
      "[[348  32 446 336 934 851 414 158 984  96]\n",
      " [667 454 619 977 205 106 691  72 751  79]\n",
      " [331 825 914 580 682  59 707  99 388 433]\n",
      " [857 140 438  43 432 178  58 932 699 214]\n",
      " [933 824 366 331 192 177 993 354 135 159]\n",
      " [477 468 176 196 150 735 638 774 719  53]\n",
      " [267 734 188 351 363  49 784 624 232 530]\n",
      " [593 166 653  31 352 732  89 897 339 107]\n",
      " [490 233 798 275 456 812 902 717 430 971]\n",
      " [277 210 276 862 507 590 733 206 584 297]]\n",
      "Valor mínimo: 31 Valor máximo: 993\n"
     ]
    }
   ],
   "source": [
    "#matriz 10x10 com valores aleatórios\n",
    "np_random10 = np.random.randint(1000, size=(10, 10))\n",
    "print (np_random10)\n",
    "\n",
    "#achar o valor mínimo e máximo da matriz acima\n",
    "np_max = np_random10.max()\n",
    "np_min = np_random10.min()\n",
    "print (\"Valor mínimo:\", np_min, \"Valor máximo:\", np_max )"
   ]
  },
  {
   "cell_type": "code",
   "execution_count": 126,
   "metadata": {},
   "outputs": [
    {
     "name": "stdout",
     "output_type": "stream",
     "text": [
      "[0.94511956 0.77990929 0.2957036  0.30038085 0.35728683 0.5840702\n",
      " 0.90718128 0.90691674 0.07727115 0.83497595 0.39712578 0.75385352\n",
      " 0.46663736 0.24473091 0.85139367 0.13209577 0.69311008 0.44985606\n",
      " 0.98453574 0.19510987 0.09678551 0.64058612 0.45592723 0.10016116\n",
      " 0.29135692 0.3495416  0.49853081 0.81133474 0.41030189 0.15061292] \n",
      "\n",
      "Valor médio:  0.49874677002086726\n"
     ]
    }
   ],
   "source": [
    "#Vetor aleatório de tamanho 30\n",
    "np_vector30 = np.random.random(30)\n",
    "print (np_vector30, '\\n')\n",
    "\n",
    "#valor médio\n",
    "np_mean = np_vector30.mean()\n",
    "print (\"Valor médio: \", np_mean)"
   ]
  },
  {
   "cell_type": "code",
   "execution_count": 134,
   "metadata": {},
   "outputs": [
    {
     "name": "stdout",
     "output_type": "stream",
     "text": [
      "[[1. 1. 1. 1. 1.]\n",
      " [1. 0. 0. 0. 1.]\n",
      " [1. 0. 0. 0. 1.]\n",
      " [1. 0. 0. 0. 1.]\n",
      " [1. 1. 1. 1. 1.]]\n"
     ]
    }
   ],
   "source": [
    "#Matriz 2d com 1 na borda e 0 dentro\n",
    "x = np.ones((5,5))\n",
    "x[1:-1,1:-1] = 0\n",
    "print(x)"
   ]
  },
  {
   "cell_type": "code",
   "execution_count": 140,
   "metadata": {},
   "outputs": [
    {
     "name": "stdout",
     "output_type": "stream",
     "text": [
      "[[0. 0. 0. 0. 0.]\n",
      " [1. 0. 0. 0. 0.]\n",
      " [0. 2. 0. 0. 0.]\n",
      " [0. 0. 3. 0. 0.]\n",
      " [0. 0. 0. 4. 0.]]\n"
     ]
    }
   ],
   "source": [
    "#matriz 5x5 com 1, 2, 3, 4 logo abaixo da diagonal\n",
    "x = np.zeros((5,5))\n",
    "x[1,0] = 1\n",
    "x[2,1] = 2\n",
    "x[3,2] = 3\n",
    "x[4,3] = 4\n",
    "print(x)"
   ]
  },
  {
   "cell_type": "code",
   "execution_count": 6,
   "metadata": {},
   "outputs": [
    {
     "name": "stdout",
     "output_type": "stream",
     "text": [
      "[[[210 144  22]\n",
      "  [  7 244 240]\n",
      "  [255  24 204]\n",
      "  ...\n",
      "  [ 68  30 254]\n",
      "  [  4  83  81]\n",
      "  [128 119  39]]\n",
      "\n",
      " [[  8 189 140]\n",
      "  [200 228 229]\n",
      "  [215  92  59]\n",
      "  ...\n",
      "  [196  76 222]\n",
      "  [242  58 232]\n",
      "  [246 134 141]]\n",
      "\n",
      " [[142 106 165]\n",
      "  [ 49 127 113]\n",
      "  [172 185  36]\n",
      "  ...\n",
      "  [231 171   8]\n",
      "  [ 54 131  70]\n",
      "  [ 84   5 170]]\n",
      "\n",
      " ...\n",
      "\n",
      " [[253 198 118]\n",
      "  [168 170   6]\n",
      "  [194  51  95]\n",
      "  ...\n",
      "  [ 45 222  35]\n",
      "  [219 217 202]\n",
      "  [177  50  68]]\n",
      "\n",
      " [[254  25 101]\n",
      "  [ 49 140   3]\n",
      "  [109  67  45]\n",
      "  ...\n",
      "  [109   7  55]\n",
      "  [247   3 235]\n",
      "  [202  62  43]]\n",
      "\n",
      " [[158 207 136]\n",
      "  [138 224 102]\n",
      "  [ 77  91 188]\n",
      "  ...\n",
      "  [108  28 166]\n",
      "  [  2 147 179]\n",
      "  [  6 217 189]]]\n"
     ]
    }
   ],
   "source": [
    "#matriz estruturada representando uma posição (x, y) e uma cor (r, g, b)\n",
    "imagem = np.random.randint(low=1, high=256, size=(720, 480, 3))\n",
    "print (imagem)"
   ]
  },
  {
   "cell_type": "code",
   "execution_count": 157,
   "metadata": {},
   "outputs": [
    {
     "name": "stdout",
     "output_type": "stream",
     "text": [
      "[[7 0 2 6 9 2 9 3 3 1]\n",
      " [6 3 0 1 2 7 4 2 6 4]\n",
      " [3 5 4 7 0 5 3 1 9 3]\n",
      " [7 2 0 9 0 0 4 4 5 1]\n",
      " [7 2 6 9 1 8 5 0 4 6]\n",
      " [7 1 5 4 6 7 6 3 9 7]\n",
      " [9 2 3 8 7 6 6 6 8 3]\n",
      " [2 1 7 5 7 1 7 8 1 8]\n",
      " [1 3 2 1 6 2 2 7 5 0]\n",
      " [7 3 7 1 5 7 8 4 4 7]] \n",
      "\n",
      "Média de cada linha:  [4.2 3.5 4.  3.2 4.8 5.5 5.8 4.7 2.9 5.3] \n",
      "\n",
      "Valor mais frequente:  7\n"
     ]
    }
   ],
   "source": [
    "np_media = np.random.randint(10, size=(10,10))\n",
    "print (np_media, '\\n') #matriz aleatória 10x10\n",
    "\n",
    "print (\"Média de cada linha: \", np_media.mean(1), '\\n')\n",
    "\n",
    "print (\"Valor mais frequente: \", np.argmax(np.bincount(np_media.flat)))"
   ]
  },
  {
   "cell_type": "code",
   "execution_count": 163,
   "metadata": {},
   "outputs": [
    {
     "name": "stdout",
     "output_type": "stream",
     "text": [
      "[['ts' 'value']\n",
      " ['01-JAN-20 00:00:00.0' '206.642']\n",
      " ['01-JAN-20 00:00:30.0' '207.191']\n",
      " ...\n",
      " ['28-JUL-20 23:58:30.0' '255.249']\n",
      " ['28-JUL-20 23:59:00.0' '255.062']\n",
      " ['28-JUL-20 23:59:30.0' '251.924']]\n"
     ]
    }
   ],
   "source": [
    "#criando matriz a partir de um csv\n",
    "matriz_termica = pd.read_csv('/home/nataliasa/sprint1/data/tags/Tags_de_01segundo/CFO.AI-112-2MA.PV.txt', sep = ';', low_memory=False, header=None).values\n",
    "print (matriz_termica)"
   ]
  },
  {
   "cell_type": "code",
   "execution_count": null,
   "metadata": {},
   "outputs": [],
   "source": []
  }
 ],
 "metadata": {
  "kernelspec": {
   "display_name": "Python 3",
   "language": "python",
   "name": "python3"
  },
  "language_info": {
   "codemirror_mode": {
    "name": "ipython",
    "version": 3
   },
   "file_extension": ".py",
   "mimetype": "text/x-python",
   "name": "python",
   "nbconvert_exporter": "python",
   "pygments_lexer": "ipython3",
   "version": "3.6.3"
  }
 },
 "nbformat": 4,
 "nbformat_minor": 4
}
