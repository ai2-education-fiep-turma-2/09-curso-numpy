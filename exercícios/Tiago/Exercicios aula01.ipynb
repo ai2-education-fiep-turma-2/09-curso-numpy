{
 "cells": [
  {
   "cell_type": "code",
   "execution_count": 1,
   "metadata": {},
   "outputs": [],
   "source": [
    "import numpy as np"
   ]
  },
  {
   "cell_type": "code",
   "execution_count": 5,
   "metadata": {},
   "outputs": [
    {
     "data": {
      "text/plain": [
       "array([ 1,  2,  3,  4,  5,  6,  7,  8,  9, 10])"
      ]
     },
     "execution_count": 5,
     "metadata": {},
     "output_type": "execute_result"
    }
   ],
   "source": [
    "#Crie um array com 10 elementos usando a função arange\n",
    "arr = np.arange(1,11)\n",
    "arr"
   ]
  },
  {
   "cell_type": "code",
   "execution_count": 10,
   "metadata": {},
   "outputs": [
    {
     "data": {
      "text/plain": [
       "array([[ 1,  2,  3,  4,  5],\n",
       "       [ 6,  7,  8,  9, 10]])"
      ]
     },
     "execution_count": 10,
     "metadata": {},
     "output_type": "execute_result"
    }
   ],
   "source": [
    "#Transforme esse array de 1D (1x10) para 2D (2x5) usando a função reshape\n",
    "twod_arr = arr.reshape(2,5)\n",
    "twod_arr"
   ]
  },
  {
   "cell_type": "code",
   "execution_count": 27,
   "metadata": {},
   "outputs": [
    {
     "name": "stdout",
     "output_type": "stream",
     "text": [
      "[[0.78796007 0.3054855  0.42332719 0.00607905 0.82650034]\n",
      " [0.6482176  0.81098457 0.98223018 0.2173499  0.54138164]]\n",
      "[[0.74554689 0.94396632]\n",
      " [0.40347575 0.1138586 ]\n",
      " [0.54438062 0.45584732]\n",
      " [0.70896074 0.57888484]\n",
      " [0.77709047 0.82775741]]\n"
     ]
    }
   ],
   "source": [
    "#Crie duas matrizes bidimensionais com valores aleatórios\n",
    "mat1 = np.random.random((2,5))\n",
    "mat2 = np.random.random((5,2))\n",
    "print(mat1)\n",
    "print(mat2)"
   ]
  },
  {
   "cell_type": "code",
   "execution_count": 32,
   "metadata": {},
   "outputs": [
    {
     "name": "stdout",
     "output_type": "stream",
     "text": [
      "Matriz 1\n",
      "[[0.78796007 0.3054855  0.42332719 0.00607905 0.82650034]\n",
      " [0.6482176  0.81098457 0.98223018 0.2173499  0.54138164]]\n",
      "[[0.78796007 0.6482176 ]\n",
      " [0.3054855  0.81098457]\n",
      " [0.42332719 0.98223018]\n",
      " [0.00607905 0.2173499 ]\n",
      " [0.82650034 0.54138164]]\n",
      "Matriz 2\n",
      "[[0.74554689 0.94396632]\n",
      " [0.40347575 0.1138586 ]\n",
      " [0.54438062 0.45584732]\n",
      " [0.70896074 0.57888484]\n",
      " [0.77709047 0.82775741]]\n",
      "[[0.74554689 0.40347575 0.54438062 0.70896074 0.77709047]\n",
      " [0.94396632 0.1138586  0.45584732 0.57888484 0.82775741]]\n"
     ]
    }
   ],
   "source": [
    "#Calcule a transposta de cada matriz\n",
    "print(\"Matriz 1\")\n",
    "print(mat1)\n",
    "transp1 = mat1.transpose()\n",
    "print(transp1)\n",
    "\n",
    "print(\"Matriz 2\")\n",
    "print(mat2)\n",
    "transp2 = mat2.transpose()\n",
    "print(transp2)"
   ]
  },
  {
   "cell_type": "code",
   "execution_count": 35,
   "metadata": {},
   "outputs": [
    {
     "data": {
      "text/plain": [
       "array([[0.58746118, 0.28836803, 0.17080226, 0.00069215, 0.44993076],\n",
       "       [0.29548825, 0.57495622, 0.56859816, 0.16890054, 0.44813266]])"
      ]
     },
     "execution_count": 35,
     "metadata": {},
     "output_type": "execute_result"
    }
   ],
   "source": [
    "#multiplique as duas matrizes\n",
    "mat2_reshaped = mat2.reshape(2,5)\n",
    "resultmult = mat1 * mat2_reshaped\n",
    "resultmult"
   ]
  },
  {
   "cell_type": "code",
   "execution_count": 41,
   "metadata": {},
   "outputs": [],
   "source": [
    "#Salve as matrizes de entrada e a de saída em arquivos. Qual o tamanho dos arquivos gerados?\n",
    "np.savez_compressed('data/matrizes', a=mat1, b=mat2, c=resultmult)\n"
   ]
  },
  {
   "cell_type": "code",
   "execution_count": 43,
   "metadata": {},
   "outputs": [
    {
     "name": "stdout",
     "output_type": "stream",
     "text": [
      "-rw-r--r-- 1 tiago tiago 804 set 14 14:46 data/matrizes.npz\r\n"
     ]
    }
   ],
   "source": [
    "#Salve as matrizes de entrada e a de saída em arquivos. Qual o tamanho dos arquivos gerados?\n",
    "#804 bytes\n",
    "!ls -lh data/matrizes.npz"
   ]
  },
  {
   "cell_type": "code",
   "execution_count": 46,
   "metadata": {},
   "outputs": [
    {
     "name": "stdout",
     "output_type": "stream",
     "text": [
      "[[0.78796007 0.3054855  0.42332719 0.00607905 0.82650034]\n",
      " [0.6482176  0.81098457 0.98223018 0.2173499  0.54138164]]\n",
      "[[0.74554689 0.94396632]\n",
      " [0.40347575 0.1138586 ]\n",
      " [0.54438062 0.45584732]\n",
      " [0.70896074 0.57888484]\n",
      " [0.77709047 0.82775741]]\n",
      "[[0.58746118 0.28836803 0.17080226 0.00069215 0.44993076]\n",
      " [0.29548825 0.57495622 0.56859816 0.16890054 0.44813266]]\n"
     ]
    }
   ],
   "source": [
    "#Dando load nas matrizes do arquivo\n",
    "loaded = np.load('data/matrizes.npz')\n",
    "load_mat1 = loaded['a']\n",
    "load_mat2 = loaded['b']\n",
    "load_resultmult = loaded['c']\n",
    "\n",
    "print(load_mat1)\n",
    "print(load_mat2)\n",
    "print(load_resultmult)"
   ]
  },
  {
   "cell_type": "code",
   "execution_count": 50,
   "metadata": {},
   "outputs": [
    {
     "name": "stdout",
     "output_type": "stream",
     "text": [
      "Matriz 1 [[0.06644652 0.35014403 0.33045319 0.63980434 0.81078304]\n",
      " [0.9145431  0.05110358 0.78350814 0.14250694 0.04491837]]\n",
      "Matriz 2 [[0.5253619  0.66810002 0.41897864 0.28518876 0.42232401]\n",
      " [0.67247284 0.99793907 0.5161783  0.94183886 0.54656988]\n",
      " [0.38276656 0.89368537 0.38749068 0.21857088 0.64541576]]\n",
      "Matriz concat [[0.06644652 0.35014403 0.33045319 0.63980434 0.81078304]\n",
      " [0.9145431  0.05110358 0.78350814 0.14250694 0.04491837]\n",
      " [0.5253619  0.66810002 0.41897864 0.28518876 0.42232401]\n",
      " [0.67247284 0.99793907 0.5161783  0.94183886 0.54656988]\n",
      " [0.38276656 0.89368537 0.38749068 0.21857088 0.64541576]]\n"
     ]
    }
   ],
   "source": [
    "#Crie duas bidimensionais matrizes com valores aleatórios e gere uma única matriz combinando linha a linha\n",
    "randmat1 = np.random.random((2,5))\n",
    "randmat2 = np.random.random((3,5))\n",
    "concatmat = np.concatenate([randmat1, randmat2])\n",
    "print(\"Matriz 1\", randmat1)\n",
    "print(\"Matriz 2\", randmat2)\n",
    "print(\"Matriz concat\", concatmat)"
   ]
  },
  {
   "cell_type": "code",
   "execution_count": 51,
   "metadata": {},
   "outputs": [
    {
     "data": {
      "text/plain": [
       "array([0., 0., 0., 0., 0., 0., 0., 0., 0., 0.])"
      ]
     },
     "execution_count": 51,
     "metadata": {},
     "output_type": "execute_result"
    }
   ],
   "source": [
    "#Crie um vetor nulo de tamanho 10\n",
    "vetnull = np.zeros(10)\n",
    "vetnull"
   ]
  },
  {
   "cell_type": "code",
   "execution_count": 57,
   "metadata": {},
   "outputs": [
    {
     "data": {
      "text/plain": [
       "200"
      ]
     },
     "execution_count": 57,
     "metadata": {},
     "output_type": "execute_result"
    }
   ],
   "source": [
    "#Como encontrar o tamanho da memória de qualquer matriz\n",
    "concatmat.nbytes"
   ]
  },
  {
   "cell_type": "code",
   "execution_count": 58,
   "metadata": {},
   "outputs": [
    {
     "data": {
      "text/plain": [
       "array([0., 0., 0., 0., 1., 0., 0., 0., 0., 0.])"
      ]
     },
     "execution_count": 58,
     "metadata": {},
     "output_type": "execute_result"
    }
   ],
   "source": [
    "#Crie um vetor nulo de tamanho 10, mas o quinto valor, que é 1\n",
    "vetnull = np.zeros(10)\n",
    "vetnull[4] = 1\n",
    "vetnull"
   ]
  },
  {
   "cell_type": "code",
   "execution_count": 61,
   "metadata": {},
   "outputs": [
    {
     "data": {
      "text/plain": [
       "array([10, 13, 16, 19, 22, 25, 28, 31, 34, 37, 40, 43, 46])"
      ]
     },
     "execution_count": 61,
     "metadata": {},
     "output_type": "execute_result"
    }
   ],
   "source": [
    "#Crie um vetor com valores que variam de 10 a 49\n",
    "vet = np.arange(10,49,3)\n",
    "vet"
   ]
  },
  {
   "cell_type": "code",
   "execution_count": 63,
   "metadata": {},
   "outputs": [
    {
     "data": {
      "text/plain": [
       "array([46, 43, 40, 37, 34, 31, 28, 25, 22, 19, 16, 13, 10])"
      ]
     },
     "execution_count": 63,
     "metadata": {},
     "output_type": "execute_result"
    }
   ],
   "source": [
    "#Inverter um vetor (o primeiro elemento se torna o último)\n",
    "invert = vet[::-1]\n",
    "invert"
   ]
  },
  {
   "cell_type": "code",
   "execution_count": 76,
   "metadata": {},
   "outputs": [
    {
     "data": {
      "text/plain": [
       "array([[0, 1, 2],\n",
       "       [3, 4, 5],\n",
       "       [6, 7, 8]])"
      ]
     },
     "execution_count": 76,
     "metadata": {},
     "output_type": "execute_result"
    }
   ],
   "source": [
    "#Crie uma matriz 3x3 com valores que variam de 0 a 8\n",
    "mat = np.arange(0,9).reshape((3, 3))\n",
    "mat"
   ]
  },
  {
   "cell_type": "code",
   "execution_count": 78,
   "metadata": {},
   "outputs": [
    {
     "data": {
      "text/plain": [
       "array([[1., 0., 0.],\n",
       "       [0., 1., 0.],\n",
       "       [0., 0., 1.]])"
      ]
     },
     "execution_count": 78,
     "metadata": {},
     "output_type": "execute_result"
    }
   ],
   "source": [
    "#Crie uma matriz de identidade 3x3\n",
    "identidade = np.identity(3) \n",
    "identidade"
   ]
  },
  {
   "cell_type": "code",
   "execution_count": 80,
   "metadata": {},
   "outputs": [
    {
     "data": {
      "text/plain": [
       "array([[[0.06344132, 0.98791237, 0.25802094],\n",
       "        [0.99356136, 0.6690468 , 0.38297153],\n",
       "        [0.45591409, 0.0712005 , 0.73347873]],\n",
       "\n",
       "       [[0.09990236, 0.47841234, 0.0983479 ],\n",
       "        [0.8820776 , 0.37351122, 0.82613358],\n",
       "        [0.21879083, 0.50057412, 0.92773284]],\n",
       "\n",
       "       [[0.34217608, 0.66454249, 0.58427751],\n",
       "        [0.54836118, 0.39577568, 0.08033451],\n",
       "        [0.18648154, 0.18122978, 0.7320218 ]]])"
      ]
     },
     "execution_count": 80,
     "metadata": {},
     "output_type": "execute_result"
    }
   ],
   "source": [
    "#Crie uma matriz 3x3x3 com valores aleatórios\n",
    "random = np.random.random((3,3,3))\n",
    "random"
   ]
  },
  {
   "cell_type": "code",
   "execution_count": 85,
   "metadata": {},
   "outputs": [
    {
     "name": "stdout",
     "output_type": "stream",
     "text": [
      "Min:  0.005274524311942863\n",
      "Max:  0.9904339972292602\n"
     ]
    }
   ],
   "source": [
    "#Crie uma matriz 10x10 com valores aleatórios e encontre os valores mínimo e máximo\n",
    "random = np.random.random((10,10))\n",
    "print(\"Min: \", random.min())\n",
    "print(\"Max: \", random.max())"
   ]
  },
  {
   "cell_type": "code",
   "execution_count": 88,
   "metadata": {},
   "outputs": [
    {
     "data": {
      "text/plain": [
       "0.5550025414464997"
      ]
     },
     "execution_count": 88,
     "metadata": {},
     "output_type": "execute_result"
    }
   ],
   "source": [
    "#Crie um vetor aleatório de tamanho 30 e encontre o valor médio\n",
    "vet = np.random.rand(30)\n",
    "vet.mean()"
   ]
  },
  {
   "cell_type": "code",
   "execution_count": 91,
   "metadata": {},
   "outputs": [
    {
     "data": {
      "text/plain": [
       "array([[1., 1., 1.],\n",
       "       [1., 0., 1.],\n",
       "       [1., 1., 1.]])"
      ]
     },
     "execution_count": 91,
     "metadata": {},
     "output_type": "execute_result"
    }
   ],
   "source": [
    "#Crie uma matriz 2D com 1 na borda e 0 dentro\n",
    "matriz = np.ones(9)\n",
    "matriz[4] = 0\n",
    "matriz.reshape(3,3)"
   ]
  },
  {
   "cell_type": "code",
   "execution_count": 120,
   "metadata": {},
   "outputs": [
    {
     "data": {
      "text/plain": [
       "array([[1, 2, 3, 4, 5],\n",
       "       [1, 2, 3, 4, 5],\n",
       "       [1, 2, 3, 4, 5],\n",
       "       [1, 2, 3, 4, 5],\n",
       "       [1, 2, 3, 4, 5]])"
      ]
     },
     "execution_count": 120,
     "metadata": {},
     "output_type": "execute_result"
    }
   ],
   "source": [
    "#Crie uma matriz 5x5 com valores 1,2,3,4 logo abaixo da diagonal\n",
    "matriz = np.zeros((5,5), dtype=int)\n",
    "matriz += np.arange(1,6)\n",
    "matriz"
   ]
  },
  {
   "cell_type": "code",
   "execution_count": 153,
   "metadata": {},
   "outputs": [
    {
     "data": {
      "text/plain": [
       "array([[(33.3, 122), (0, 0, 0)],\n",
       "       [(44.4, 12.3), (255, 255, 255)]], dtype=object)"
      ]
     },
     "execution_count": 153,
     "metadata": {},
     "output_type": "execute_result"
    }
   ],
   "source": [
    "#Crie uma matriz estruturada representando uma posição (x, y) e uma cor (r, g, b)\n",
    "estruturado = np.array([((33.3,122), (0,0,0)), ((44.4,12.3), (255,255,255))])\n",
    "estruturado"
   ]
  },
  {
   "cell_type": "code",
   "execution_count": 159,
   "metadata": {},
   "outputs": [
    {
     "data": {
      "text/plain": [
       "array([[-2., -1.,  0.,  1.,  2.],\n",
       "       [-2., -1.,  0.,  1.,  2.],\n",
       "       [-2., -1.,  0.,  1.,  2.],\n",
       "       [-2., -1.,  0.,  1.,  2.],\n",
       "       [-2., -1.,  0.,  1.,  2.]])"
      ]
     },
     "execution_count": 159,
     "metadata": {},
     "output_type": "execute_result"
    }
   ],
   "source": [
    "#Subtrair a média de cada linha de uma matriz\n",
    "matriz = \n",
    "matriz2 = matriz - matriz.mean(axis=1)\n",
    "matriz2"
   ]
  },
  {
   "cell_type": "code",
   "execution_count": 228,
   "metadata": {},
   "outputs": [
    {
     "name": "stdout",
     "output_type": "stream",
     "text": [
      "[[ 1  2  3  5  5]\n",
      " [ 3  2 13 13  2]]\n",
      "Mais frequente: 2\n"
     ]
    }
   ],
   "source": [
    "#Como encontrar o valor mais frequente em uma matriz?\n",
    "matrix = np.array([1,2,3,5,5,3,2,13,13,2]).reshape(2,5)\n",
    "print(matrix)\n",
    "array, count = np.unique(matrix,return_counts=True)\n",
    "index = np.argmax(count, axis=0)\n",
    "print(\"Mais frequente:\",array[index])"
   ]
  },
  {
   "cell_type": "code",
   "execution_count": 207,
   "metadata": {},
   "outputs": [
    {
     "name": "stdout",
     "output_type": "stream",
     "text": [
      "[[0.78796007 0.3054855  0.42332719 0.00607905 0.82650034]\n",
      " [0.6482176  0.81098457 0.98223018 0.2173499  0.54138164]]\n",
      "[[0.74554689 0.94396632]\n",
      " [0.40347575 0.1138586 ]\n",
      " [0.54438062 0.45584732]\n",
      " [0.70896074 0.57888484]\n",
      " [0.77709047 0.82775741]]\n",
      "[[0.58746118 0.28836803 0.17080226 0.00069215 0.44993076]\n",
      " [0.29548825 0.57495622 0.56859816 0.16890054 0.44813266]]\n"
     ]
    }
   ],
   "source": [
    "#Crie uma matriz a partir de um arquivo\n",
    "loaded = np.load('data/matrizes.npz')\n",
    "load_mat1 = loaded['a']\n",
    "load_mat2 = loaded['b']\n",
    "load_resultmult = loaded['c']\n",
    "\n",
    "print(load_mat1)\n",
    "print(load_mat2)\n",
    "print(load_resultmult)"
   ]
  },
  {
   "cell_type": "code",
   "execution_count": 214,
   "metadata": {},
   "outputs": [],
   "source": [
    "#Crie uma matriz com valores aletaórios e salve para um arquivo\n",
    "mat = np.random.random((10,5))\n",
    "mat\n",
    "np.savez_compressed('data/mat', matriz = mat)\n"
   ]
  },
  {
   "cell_type": "code",
   "execution_count": 215,
   "metadata": {},
   "outputs": [
    {
     "data": {
      "text/plain": [
       "array([[0.76215019, 0.83502323, 0.61199794, 0.93587521, 0.0555312 ],\n",
       "       [0.51052815, 0.25435462, 0.32116645, 0.10828829, 0.41606023],\n",
       "       [0.59108403, 0.85983295, 0.67189776, 0.02216063, 0.79888448],\n",
       "       [0.39403765, 0.26367392, 0.35014225, 0.96883438, 0.22977055],\n",
       "       [0.03840791, 0.4597771 , 0.36772284, 0.51524065, 0.43586692],\n",
       "       [0.36950961, 0.96130258, 0.33219225, 0.62127395, 0.41091532],\n",
       "       [0.041324  , 0.20992836, 0.37746273, 0.71909341, 0.24014873],\n",
       "       [0.85000927, 0.61501686, 0.6065993 , 0.38117545, 0.36145993],\n",
       "       [0.3559592 , 0.82268044, 0.91169467, 0.74669901, 0.8720074 ],\n",
       "       [0.53861809, 0.83267167, 0.07392521, 0.41977755, 0.21810611]])"
      ]
     },
     "execution_count": 215,
     "metadata": {},
     "output_type": "execute_result"
    }
   ],
   "source": [
    "load = np.load('data/mat.npz')\n",
    "load['matriz']"
   ]
  }
 ],
 "metadata": {
  "kernelspec": {
   "display_name": "Python 3",
   "language": "python",
   "name": "python3"
  },
  "language_info": {
   "codemirror_mode": {
    "name": "ipython",
    "version": 3
   },
   "file_extension": ".py",
   "mimetype": "text/x-python",
   "name": "python",
   "nbconvert_exporter": "python",
   "pygments_lexer": "ipython3",
   "version": "3.8.3"
  }
 },
 "nbformat": 4,
 "nbformat_minor": 4
}
