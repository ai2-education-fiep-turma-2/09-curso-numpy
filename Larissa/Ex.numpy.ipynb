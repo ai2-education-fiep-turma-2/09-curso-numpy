{
 "cells": [
  {
   "cell_type": "code",
   "execution_count": 110,
   "metadata": {},
   "outputs": [],
   "source": [
    "import numpy as np \n",
    "import pandas as pd\n",
    "from scipy import stats"
   ]
  },
  {
   "cell_type": "markdown",
   "metadata": {},
   "source": [
    "1. Crie um array com 10 elementos usando a função arange"
   ]
  },
  {
   "cell_type": "code",
   "execution_count": 5,
   "metadata": {},
   "outputs": [
    {
     "name": "stdout",
     "output_type": "stream",
     "text": [
      "[0 1 2 3 4 5 6 7 8 9]\n"
     ]
    }
   ],
   "source": [
    "a = np.arange(10)\n",
    "print(a)"
   ]
  },
  {
   "cell_type": "markdown",
   "metadata": {},
   "source": [
    "2. Transforme esse array de 1D (1x10) para 2D (2x5) usando a função reshape"
   ]
  },
  {
   "cell_type": "code",
   "execution_count": 6,
   "metadata": {},
   "outputs": [
    {
     "name": "stdout",
     "output_type": "stream",
     "text": [
      "[[0 1 2 3 4]\n",
      " [5 6 7 8 9]]\n"
     ]
    }
   ],
   "source": [
    "b = a.reshape((2, 5))\n",
    "print(b)"
   ]
  },
  {
   "cell_type": "markdown",
   "metadata": {},
   "source": [
    "3. Crie duas matrizes bidimensionais com valores aleatórios"
   ]
  },
  {
   "cell_type": "code",
   "execution_count": 70,
   "metadata": {},
   "outputs": [
    {
     "name": "stdout",
     "output_type": "stream",
     "text": [
      "[[31 88 62 98]\n",
      " [39 44 43 38]\n",
      " [94 52 68 96]]\n",
      "\n",
      "[[75 94 22]\n",
      " [39 55 72]\n",
      " [ 3 57 43]\n",
      " [39 77 64]]\n"
     ]
    }
   ],
   "source": [
    "c = np.random.randint(100, size=(3, 4))\n",
    "d = np.matrix(d)\n",
    "print(c)\n",
    "print()\n",
    "d = np.random.randint(100, size=(4, 3))\n",
    "d = np.matrix(d)\n",
    "print(d)"
   ]
  },
  {
   "cell_type": "markdown",
   "metadata": {},
   "source": [
    "4. Calcule a transposta de cada matriz"
   ]
  },
  {
   "cell_type": "code",
   "execution_count": 71,
   "metadata": {},
   "outputs": [
    {
     "name": "stdout",
     "output_type": "stream",
     "text": [
      "[[31 39 94]\n",
      " [88 44 52]\n",
      " [62 43 68]\n",
      " [98 38 96]]\n",
      "\n",
      "[[75 39  3 39]\n",
      " [94 55 57 77]\n",
      " [22 72 43 64]]\n"
     ]
    }
   ],
   "source": [
    "print(c.T)\n",
    "print()\n",
    "print(d.T)"
   ]
  },
  {
   "cell_type": "markdown",
   "metadata": {},
   "source": [
    "5. Multiplique as duas matrizes"
   ]
  },
  {
   "cell_type": "code",
   "execution_count": 72,
   "metadata": {},
   "outputs": [
    {
     "name": "stdout",
     "output_type": "stream",
     "text": [
      "[[ 9765 18834 15956]\n",
      " [ 6252 11463  8307]\n",
      " [13026 22964 14880]]\n"
     ]
    }
   ],
   "source": [
    "e = c*d\n",
    "print(e)"
   ]
  },
  {
   "cell_type": "markdown",
   "metadata": {},
   "source": [
    "6. Salve as matrizes de entrada e a de saída em arquivos. Qual o tamanho dos arquivos gerados?\n"
   ]
  },
  {
   "cell_type": "code",
   "execution_count": 73,
   "metadata": {},
   "outputs": [
    {
     "name": "stdout",
     "output_type": "stream",
     "text": [
      "Tamanho dos arquivos em bytes:\n",
      "c: 300\n",
      "d: 300\n",
      "c*d: 225\n"
     ]
    }
   ],
   "source": [
    "np.savetxt('c', c)\n",
    "np.savetxt('d', d)\n",
    "np.savetxt('c*d', e)\n",
    "print('Tamanho dos arquivos em bytes:')\n",
    "print('c:', os.path.getsize ('c'))\n",
    "print('d:', os.path.getsize ('d'))\n",
    "print('c*d:', os.path.getsize ('c*d'))"
   ]
  },
  {
   "cell_type": "markdown",
   "metadata": {},
   "source": [
    "7. Crie duas bidimensionais matrizes com valores aleatórios e gere uma única matriz combinando linha a linha"
   ]
  },
  {
   "cell_type": "code",
   "execution_count": 75,
   "metadata": {},
   "outputs": [
    {
     "name": "stdout",
     "output_type": "stream",
     "text": [
      "[[37 70 99]\n",
      " [ 9 97 48]]\n",
      "\n",
      "[[ 4 62  6]\n",
      " [53 55 59]]\n",
      "\n",
      "[[37 70 99]\n",
      " [ 9 97 48]\n",
      " [ 4 62  6]\n",
      " [53 55 59]]\n"
     ]
    }
   ],
   "source": [
    "f = np.random.randint(100, size=(2, 3))\n",
    "f = np.matrix(f)\n",
    "print(f)\n",
    "print()\n",
    "g = np.random.randint(100, size=(2, 3))\n",
    "g = np.matrix(g)\n",
    "print(g)\n",
    "print()\n",
    "h = np.concatenate((f,g))\n",
    "print(h)"
   ]
  },
  {
   "cell_type": "markdown",
   "metadata": {},
   "source": [
    "8. Crie um vetor nulo de tamanho 10"
   ]
  },
  {
   "cell_type": "code",
   "execution_count": 58,
   "metadata": {},
   "outputs": [
    {
     "name": "stdout",
     "output_type": "stream",
     "text": [
      "[0. 0. 0. 0. 0. 0. 0. 0. 0. 0.]\n"
     ]
    }
   ],
   "source": [
    "i = np.zeros(10)\n",
    "print(i)"
   ]
  },
  {
   "cell_type": "markdown",
   "metadata": {},
   "source": [
    "9. Como encontrar o tamanho da memória de qualquer matriz"
   ]
  },
  {
   "cell_type": "code",
   "execution_count": 76,
   "metadata": {},
   "outputs": [
    {
     "name": "stdout",
     "output_type": "stream",
     "text": [
      "48\n"
     ]
    }
   ],
   "source": [
    "# Tamanho da matriz f em bytes (por exemplo)\n",
    "print(f.nbytes)"
   ]
  },
  {
   "cell_type": "markdown",
   "metadata": {},
   "source": [
    "10. Crie um vetor nulo de tamanho 10, mas o quinto valor, que é 1"
   ]
  },
  {
   "cell_type": "code",
   "execution_count": 59,
   "metadata": {},
   "outputs": [
    {
     "name": "stdout",
     "output_type": "stream",
     "text": [
      "[0. 0. 0. 0. 0. 1. 0. 0. 0. 0.]\n"
     ]
    }
   ],
   "source": [
    "j = np.zeros(10)\n",
    "j[5] = 1\n",
    "print(j)"
   ]
  },
  {
   "cell_type": "markdown",
   "metadata": {},
   "source": [
    "11. Crie um vetor com valores que variam de 10 a 49"
   ]
  },
  {
   "cell_type": "code",
   "execution_count": 61,
   "metadata": {},
   "outputs": [
    {
     "name": "stdout",
     "output_type": "stream",
     "text": [
      "[10 11 12 13 14 15 16 17 18 19 20 21 22 23 24 25 26 27 28 29 30 31 32 33\n",
      " 34 35 36 37 38 39 40 41 42 43 44 45 46 47 48 49]\n"
     ]
    }
   ],
   "source": [
    "k = np.arange(10,50)\n",
    "print(k)"
   ]
  },
  {
   "cell_type": "markdown",
   "metadata": {},
   "source": [
    "12. Inverter um vetor (o primeiro elemento se torna o último)"
   ]
  },
  {
   "cell_type": "code",
   "execution_count": 64,
   "metadata": {},
   "outputs": [
    {
     "name": "stdout",
     "output_type": "stream",
     "text": [
      "[49 48 47 46 45 44 43 42 41 40 39 38 37 36 35 34 33 32 31 30 29 28 27 26\n",
      " 25 24 23 22 21 20 19 18 17 16 15 14 13 12 11 10]\n"
     ]
    }
   ],
   "source": [
    "# Invertendo o vetor k (acima)\n",
    "print(k[::-1])"
   ]
  },
  {
   "cell_type": "markdown",
   "metadata": {},
   "source": [
    "13. Crie uma matriz 3x3 com valores que variam de 0 a 8"
   ]
  },
  {
   "cell_type": "code",
   "execution_count": 82,
   "metadata": {},
   "outputs": [
    {
     "name": "stdout",
     "output_type": "stream",
     "text": [
      "[[0 3 0]\n",
      " [3 0 4]\n",
      " [3 8 1]]\n"
     ]
    }
   ],
   "source": [
    "l = np.random.randint(9, size=(3, 3))\n",
    "print(l)"
   ]
  },
  {
   "cell_type": "markdown",
   "metadata": {},
   "source": [
    "14. Crie uma matriz de identidade 3x3"
   ]
  },
  {
   "cell_type": "code",
   "execution_count": 83,
   "metadata": {},
   "outputs": [
    {
     "name": "stdout",
     "output_type": "stream",
     "text": [
      "[[1. 0. 0.]\n",
      " [0. 1. 0.]\n",
      " [0. 0. 1.]]\n"
     ]
    }
   ],
   "source": [
    "m = np.identity(3)\n",
    "print(m)"
   ]
  },
  {
   "cell_type": "markdown",
   "metadata": {},
   "source": [
    "15. Crie uma matriz 3x3x3 com valores aleatórios"
   ]
  },
  {
   "cell_type": "code",
   "execution_count": 84,
   "metadata": {},
   "outputs": [
    {
     "name": "stdout",
     "output_type": "stream",
     "text": [
      "[[[93 62 62]\n",
      "  [62 99 51]\n",
      "  [72 34 52]]\n",
      "\n",
      " [[ 4 19 25]\n",
      "  [43 31 24]\n",
      "  [21 41 48]]\n",
      "\n",
      " [[66 94 67]\n",
      "  [12 62 77]\n",
      "  [ 3 21 17]]]\n"
     ]
    }
   ],
   "source": [
    "n = np.random.randint(100, size=(3, 3, 3))\n",
    "print(n)"
   ]
  },
  {
   "cell_type": "markdown",
   "metadata": {},
   "source": [
    "16. Crie uma matriz 10x10 com valores aleatórios e encontre os valores mínimo e máximo"
   ]
  },
  {
   "cell_type": "code",
   "execution_count": 91,
   "metadata": {},
   "outputs": [
    {
     "name": "stdout",
     "output_type": "stream",
     "text": [
      "[[25 68 37 26 62 59 19 41 85 32]\n",
      " [40 60  8 11 19 39 74 22  2 98]\n",
      " [70 42  3 89 52 47 91 83 87 27]\n",
      " [94 32 45 40 73 53 52 38 23 36]\n",
      " [18 62 93 90 69 63 32 99 50 98]\n",
      " [14  0 20 64 84 96 84 53 15 89]\n",
      " [45 86 18 85  1 10 42 19 50 68]\n",
      " [ 7  8 65  1  8 31 92 94 95 67]\n",
      " [69  4 55 32 35 71 69 94 32 17]\n",
      " [ 8 27 55 62 93 18 83 14 83 40]]\n",
      "O valor mínimo é: 0\n",
      "O valor máximo é: 99\n"
     ]
    }
   ],
   "source": [
    "o = np.random.randint(100, size=(10, 10))\n",
    "print(o)\n",
    "\n",
    "print('O valor mínimo é:', np.min(o))\n",
    "print('O valor máximo é:', np.max(o))"
   ]
  },
  {
   "cell_type": "markdown",
   "metadata": {},
   "source": [
    "17. Crie um vetor aleatório de tamanho 30 e encontre o valor médio"
   ]
  },
  {
   "cell_type": "code",
   "execution_count": 93,
   "metadata": {},
   "outputs": [
    {
     "name": "stdout",
     "output_type": "stream",
     "text": [
      "[45 44 86 60 36 63 95 49 42 29 38 76 21 10 24 23 73 80 39 65  5 77  5 78\n",
      " 29 36 51 35 90  4]\n"
     ]
    },
    {
     "data": {
      "text/plain": [
       "46.93333333333333"
      ]
     },
     "execution_count": 93,
     "metadata": {},
     "output_type": "execute_result"
    }
   ],
   "source": [
    "p = np.random.randint(100, size=30)\n",
    "print(p)\n",
    "np.mean(p)"
   ]
  },
  {
   "cell_type": "markdown",
   "metadata": {},
   "source": [
    "18. Crie uma matriz 2D com 1 na borda e 0 dentro"
   ]
  },
  {
   "cell_type": "code",
   "execution_count": 95,
   "metadata": {},
   "outputs": [
    {
     "name": "stdout",
     "output_type": "stream",
     "text": [
      "[[1. 1. 1. 1. 1.]\n",
      " [1. 0. 0. 0. 1.]\n",
      " [1. 0. 0. 0. 1.]\n",
      " [1. 0. 0. 0. 1.]\n",
      " [1. 1. 1. 1. 1.]]\n"
     ]
    }
   ],
   "source": [
    "q = np.ones((5,5))\n",
    "q[1:4, 1:4] = 0\n",
    "print(q)"
   ]
  },
  {
   "cell_type": "markdown",
   "metadata": {},
   "source": [
    "19. Crie uma matriz 5x5 com valores 1,2,3,4 logo abaixo da diagonal"
   ]
  },
  {
   "cell_type": "code",
   "execution_count": 120,
   "metadata": {},
   "outputs": [
    {
     "name": "stdout",
     "output_type": "stream",
     "text": [
      "[[0. 0. 0. 0. 0.]\n",
      " [1. 0. 0. 0. 0.]\n",
      " [0. 2. 0. 0. 0.]\n",
      " [0. 0. 3. 0. 0.]\n",
      " [0. 0. 0. 4. 0.]]\n"
     ]
    }
   ],
   "source": [
    "r = np.zeros((5,5))\n",
    "r[1,0] = 1\n",
    "r[2,1] = 2\n",
    "r[3,2] = 3\n",
    "r[4,3] = 4\n",
    "print(r)"
   ]
  },
  {
   "cell_type": "markdown",
   "metadata": {},
   "source": [
    "20. Crie uma matriz estruturada representando uma posição (x, y) e uma cor (r, g, b)"
   ]
  },
  {
   "cell_type": "code",
   "execution_count": null,
   "metadata": {},
   "outputs": [],
   "source": []
  },
  {
   "cell_type": "markdown",
   "metadata": {},
   "source": [
    "21. Subtrair a média de cada linha de uma matriz"
   ]
  },
  {
   "cell_type": "code",
   "execution_count": 104,
   "metadata": {},
   "outputs": [
    {
     "name": "stdout",
     "output_type": "stream",
     "text": [
      "[[ 9 80]\n",
      " [50 21]]\n",
      "40.0\n",
      "[[-31.  40.]\n",
      " [ 10. -19.]]\n"
     ]
    }
   ],
   "source": [
    "t = np.random.randint(100, size=(2, 2))\n",
    "print(t)\n",
    "u = np.mean(t)\n",
    "print(u)\n",
    "print(t-u)\n"
   ]
  },
  {
   "cell_type": "markdown",
   "metadata": {},
   "source": [
    "22. Como encontrar o valor mais frequente em uma matriz?"
   ]
  },
  {
   "cell_type": "code",
   "execution_count": 116,
   "metadata": {},
   "outputs": [
    {
     "name": "stdout",
     "output_type": "stream",
     "text": [
      "[[9 0 5 0]\n",
      " [2 8 2 6]\n",
      " [0 1 5 8]\n",
      " [5 9 6 7]]\n"
     ]
    },
    {
     "data": {
      "text/plain": [
       "ModeResult(mode=array([0]), count=array([3]))"
      ]
     },
     "execution_count": 116,
     "metadata": {},
     "output_type": "execute_result"
    }
   ],
   "source": [
    "v = np.random.randint(10, size=(4, 4))\n",
    "print(v)\n",
    "stats.mode(v, axis=None)"
   ]
  },
  {
   "cell_type": "markdown",
   "metadata": {},
   "source": [
    "23. Crie uma matriz a partir de um arquivo"
   ]
  },
  {
   "cell_type": "code",
   "execution_count": 128,
   "metadata": {},
   "outputs": [
    {
     "name": "stdout",
     "output_type": "stream",
     "text": [
      "[['10' '20' '30' '40' '50']\n",
      " ['20' '10' '10' '8' '7']]\n"
     ]
    }
   ],
   "source": [
    "arq = open('dados_matrix', 'r')  #abre o arquivo\n",
    "texto = []  #declaro um vetor\n",
    "matriz = [] #declaro um segundo vetor\n",
    "texto = arq.readlines() #quebra as linhas do arquivo em vetores \n",
    "\n",
    "for i in range(len(texto)):          #esse for percorre a posições do vetor texto\n",
    "    matriz.append(texto[i].split())  #aqui eu quebro nos espaços das palavra\n",
    "arq.close() #comando para fechar o arquivo\n",
    "\n",
    "x = np.array([matriz])\n",
    "x = x.reshape(2,5)\n",
    "x = np.matrix(x)\n",
    "print(x)"
   ]
  },
  {
   "cell_type": "markdown",
   "metadata": {},
   "source": [
    "24. Crie uma matriz com valores aletaórios e salve para um arquivo"
   ]
  },
  {
   "cell_type": "code",
   "execution_count": 130,
   "metadata": {},
   "outputs": [],
   "source": [
    "y = np.random.randint(100, size=(4, 4))\n",
    "np.savetxt('testey.txt',y) "
   ]
  }
 ],
 "metadata": {
  "kernelspec": {
   "display_name": "Python 3",
   "language": "python",
   "name": "python3"
  },
  "language_info": {
   "codemirror_mode": {
    "name": "ipython",
    "version": 3
   },
   "file_extension": ".py",
   "mimetype": "text/x-python",
   "name": "python",
   "nbconvert_exporter": "python",
   "pygments_lexer": "ipython3",
   "version": "3.8.3"
  }
 },
 "nbformat": 4,
 "nbformat_minor": 4
}
